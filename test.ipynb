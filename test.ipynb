{
 "cells": [
  {
   "cell_type": "code",
   "execution_count": 26,
   "metadata": {},
   "outputs": [
    {
     "data": {
      "text/plain": [
       "dict_values([1, 3])"
      ]
     },
     "execution_count": 26,
     "metadata": {},
     "output_type": "execute_result"
    }
   ],
   "source": [
    "{1:1,2:3}.values()"
   ]
  },
  {
   "cell_type": "code",
   "execution_count": 23,
   "metadata": {},
   "outputs": [],
   "source": [
    "import matplotlib.pyplot as plt\n",
    "import math\n",
    "import numpy as np\n",
    "\n",
    "def calc_yfa(z, beta) -> float:\n",
    "    denominator = math.cos(beta) ** 3\n",
    "    if denominator == 0:\n",
    "        return 0.0  # 防止分母为零的情况，具体处理需根据实际需求调整\n",
    "    zv = z / denominator\n",
    "    if zv < 35:\n",
    "        term = (zv - 16) / (math.cos(beta) ** 3)\n",
    "        return (-0.0000570752776635208 * (term ** 3) +\n",
    "                0.00307677616500968 * (term ** 2) -\n",
    "                0.0688841305752419 * term +\n",
    "                3.03422577422526)\n",
    "    if zv < 110:\n",
    "        term = (zv / 10 - 2) / (math.cos(beta) ** 3)\n",
    "        return (-0.00141414141414042 * (term ** 3) +\n",
    "                0.0267099567099223 * (term ** 2) -\n",
    "                0.18568542568536 * term +\n",
    "                2.6785714285711)\n",
    "    if zv < 160:\n",
    "        return 2.14\n",
    "    if zv < 210:\n",
    "        return 2.12\n",
    "    return 2.1\n",
    "\n",
    "\n",
    "def calc_ysa(z, beta) -> float:\n",
    "    if z < 35:\n",
    "        term = (z - 16) / (math.cos(beta) ** 3)\n",
    "        return (0.0000291375291376905 * (term ** 3) -\n",
    "                0.00079295704295923 * (term ** 2) +\n",
    "                0.0139880952381617 * term +\n",
    "                1.50570429570396)\n",
    "    if z < 130:\n",
    "        term = (z / 10 - 2) / (math.cos(beta) ** 3)\n",
    "        return (-0.0027083333 * (term ** 2) +\n",
    "                0.0474107143 * term +\n",
    "                1.5825892857)\n",
    "    if z < 160:\n",
    "        return 1.83\n",
    "    if z < 210:\n",
    "        return 1.865\n",
    "    return 1.9\n",
    "    \n",
    "def calc_yf(z, beta):\n",
    "    return calc_yfa(z, beta) * calc_ysa(z, beta)\n"
   ]
  },
  {
   "cell_type": "code",
   "execution_count": 25,
   "metadata": {},
   "outputs": [
    {
     "data": {
      "text/plain": [
       "4.162005595774217"
      ]
     },
     "execution_count": 25,
     "metadata": {},
     "output_type": "execute_result"
    }
   ],
   "source": [
    "calc_yf(22, 12 / 180 * math.pi)"
   ]
  },
  {
   "cell_type": "code",
   "execution_count": 24,
   "metadata": {},
   "outputs": [
    {
     "data": {
      "image/png": "[encoded data removed]",
      "text/plain": [
       "<Figure size 640x480 with 1 Axes>"
      ]
     },
     "metadata": {},
     "output_type": "display_data"
    }
   ],
   "source": [
    "z = np.linspace(20, 100, 10000)\n",
    "beta = 0\n",
    "yf = [calc_yf(zi, beta) for zi in z]\n",
    "plt.plot(z, yf)\n",
    "plt.grid()\n",
    "plt.show()"
   ]
  },
  {
   "cell_type": "code",
   "execution_count": 3,
   "metadata": {},
   "outputs": [
    {
     "name": "stdout",
     "output_type": "stream",
     "text": [
      "$\\sigma_H_{2}$\n"
     ]
    }
   ],
   "source": [
    "print(rf'$\\sigma_H_{{{1 + 1}}}$')"
   ]
  },
  {
   "cell_type": "code",
   "execution_count": 4,
   "metadata": {},
   "outputs": [],
   "source": [
    "import scipy.optimize as opt\n",
    "import math"
   ]
  },
  {
   "cell_type": "code",
   "execution_count": 7,
   "metadata": {},
   "outputs": [
    {
     "data": {
      "text/plain": [
       "array([4.0802046])"
      ]
     },
     "execution_count": 7,
     "metadata": {},
     "output_type": "execute_result"
    }
   ],
   "source": [
    "i_total = 10\n",
    "coeff = 1\n",
    "\n",
    "def func(iI: float):\n",
    "    return coeff * (iI + 1) * iI ** 4 / ((iI + i_total) * i_total ** 2)\n",
    "opt.fsolve(lambda x: func(x) - 1, 4)"
   ]
  },
  {
   "cell_type": "code",
   "execution_count": 2,
   "metadata": {},
   "outputs": [
    {
     "data": {
      "text/plain": [
       "2.320794416806389"
      ]
     },
     "execution_count": 2,
     "metadata": {},
     "output_type": "execute_result"
    }
   ],
   "source": [
    "(2*(2.5)**2)**(1/3)"
   ]
  },
  {
   "cell_type": "code",
   "execution_count": 16,
   "metadata": {},
   "outputs": [],
   "source": [
    "import pyautocad\n",
    "from pyautocad import APoint"
   ]
  },
  {
   "cell_type": "code",
   "execution_count": 13,
   "metadata": {},
   "outputs": [
    {
     "name": "stdout",
     "output_type": "stream",
     "text": [
      "Hello, Autocad from Python\n",
      "\n"
     ]
    }
   ],
   "source": [
    "acad = pyautocad.Autocad(create_if_not_exists=True)\n",
    "acad.prompt(\"Hello, Autocad from Python\\n\")"
   ]
  },
  {
   "cell_type": "code",
   "execution_count": 14,
   "metadata": {},
   "outputs": [
    {
     "name": "stdout",
     "output_type": "stream",
     "text": [
      "Drawing1.dwg\n"
     ]
    }
   ],
   "source": [
    "print(acad.doc.Name)"
   ]
  },
  {
   "cell_type": "code",
   "execution_count": 18,
   "metadata": {},
   "outputs": [
    {
     "data": {
      "text/plain": [
       "<comtypes.client.lazybind.Dispatch at 0x17c0f7b1350>"
      ]
     },
     "execution_count": 18,
     "metadata": {},
     "output_type": "execute_result"
    }
   ],
   "source": [
    "# simple line\n",
    "acad.model.AddLine(APoint(0, 0), APoint(10, 10))"
   ]
  },
  {
   "cell_type": "code",
   "execution_count": 20,
   "metadata": {},
   "outputs": [],
   "source": [
    "acad.ActiveDocument.SendCommand(\"circle\\n0,0\\n10\\n\")"
   ]
  }
 ],
 "metadata": {
  "kernelspec": {
   "display_name": "Python 3",
   "language": "python",
   "name": "python3"
  },
  "language_info": {
   "codemirror_mode": {
    "name": "ipython",
    "version": 3
   },
   "file_extension": ".py",
   "mimetype": "text/x-python",
   "name": "python",
   "nbconvert_exporter": "python",
   "pygments_lexer": "ipython3",
   "version": "3.11.4"
  }
 },
 "nbformat": 4,
 "nbformat_minor": 2
}
